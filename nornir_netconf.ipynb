{
 "cells": [
  {
   "cell_type": "code",
   "execution_count": 1,
   "metadata": {},
   "outputs": [
    {
     "ename": "ImportError",
     "evalue": "cannot import name 'nc' from 'nornir.plugins.tasks.networking' (/home/wds/bics_nornir/venv/lib64/python3.7/site-packages/nornir/plugins/tasks/networking/__init__.py)",
     "output_type": "error",
     "traceback": [
      "\u001b[0;31m---------------------------------------------------------------------\u001b[0m",
      "\u001b[0;31mImportError\u001b[0m                         Traceback (most recent call last)",
      "\u001b[0;32m<ipython-input-1-3438665f3096>\u001b[0m in \u001b[0;36m<module>\u001b[0;34m\u001b[0m\n\u001b[1;32m      1\u001b[0m \u001b[0;32mfrom\u001b[0m \u001b[0mnornir\u001b[0m \u001b[0;32mimport\u001b[0m \u001b[0mInitNornir\u001b[0m\u001b[0;34m\u001b[0m\u001b[0;34m\u001b[0m\u001b[0m\n\u001b[1;32m      2\u001b[0m \u001b[0;32mfrom\u001b[0m \u001b[0mnornir\u001b[0m\u001b[0;34m.\u001b[0m\u001b[0mplugins\u001b[0m\u001b[0;34m.\u001b[0m\u001b[0mfunctions\u001b[0m\u001b[0;34m.\u001b[0m\u001b[0mtext\u001b[0m \u001b[0;32mimport\u001b[0m \u001b[0mprint_result\u001b[0m\u001b[0;34m\u001b[0m\u001b[0;34m\u001b[0m\u001b[0m\n\u001b[0;32m----> 3\u001b[0;31m \u001b[0;32mfrom\u001b[0m \u001b[0mnornir\u001b[0m\u001b[0;34m.\u001b[0m\u001b[0mplugins\u001b[0m\u001b[0;34m.\u001b[0m\u001b[0mtasks\u001b[0m\u001b[0;34m.\u001b[0m\u001b[0mnetworking\u001b[0m \u001b[0;32mimport\u001b[0m \u001b[0mnc\u001b[0m\u001b[0;34m\u001b[0m\u001b[0;34m\u001b[0m\u001b[0m\n\u001b[0m",
      "\u001b[0;31mImportError\u001b[0m: cannot import name 'nc' from 'nornir.plugins.tasks.networking' (/home/wds/bics_nornir/venv/lib64/python3.7/site-packages/nornir/plugins/tasks/networking/__init__.py)"
     ]
    }
   ],
   "source": [
    "from nornir import InitNornir\n",
    "from nornir.plugins.functions.text import print_result\n",
    "from nornir.plugins.tasks.networking import nc"
   ]
  },
  {
   "cell_type": "code",
   "execution_count": 2,
   "metadata": {},
   "outputs": [],
   "source": [
    "nr = InitNornir(config_file=\"nornir_config.yaml\")"
   ]
  },
  {
   "cell_type": "code",
   "execution_count": 9,
   "metadata": {},
   "outputs": [],
   "source": [
    "cfgs = nr.run(task=nc.get_config, source=nc.NcDatastore.running, path=\"/router/interface/interface-name=system\")"
   ]
  },
  {
   "cell_type": "code",
   "execution_count": 10,
   "metadata": {},
   "outputs": [
    {
     "data": {
      "text/plain": [
       "AggregatedResult (get_config): {}"
      ]
     },
     "execution_count": 10,
     "metadata": {},
     "output_type": "execute_result"
    }
   ],
   "source": [
    "cfgs"
   ]
  },
  {
   "cell_type": "code",
   "execution_count": 11,
   "metadata": {},
   "outputs": [
    {
     "name": "stdout",
     "output_type": "stream",
     "text": [
      "\u001b[1m\u001b[36mget_config**********************************************************************\u001b[0m\n",
      "\u001b[0m"
     ]
    }
   ],
   "source": [
    "print_result(cfgs)"
   ]
  },
  {
   "cell_type": "code",
   "execution_count": 12,
   "metadata": {},
   "outputs": [],
   "source": [
    "cfgs = nr.run(task=nc.get_config, source=nc.NcDatastore.running, path=\"/router/interface\")"
   ]
  },
  {
   "cell_type": "code",
   "execution_count": 13,
   "metadata": {},
   "outputs": [
    {
     "name": "stdout",
     "output_type": "stream",
     "text": [
      "\u001b[1m\u001b[36mget_config**********************************************************************\u001b[0m\n",
      "\u001b[0m"
     ]
    }
   ],
   "source": [
    "print_result(cfgs)"
   ]
  },
  {
   "cell_type": "code",
   "execution_count": 11,
   "metadata": {},
   "outputs": [
    {
     "data": {
      "text/plain": [
       "AggregatedResult (get_config): {'sr1.lab': MultiResult: [Result: \"get_config\"], 'sr2.lab': MultiResult: [Result: \"get_config\"]}"
      ]
     },
     "execution_count": 11,
     "metadata": {},
     "output_type": "execute_result"
    }
   ],
   "source": [
    "cfgs"
   ]
  },
  {
   "cell_type": "code",
   "execution_count": 12,
   "metadata": {},
   "outputs": [
    {
     "data": {
      "text/plain": [
       "{'sr1.lab': Host: sr1.lab, 'sr2.lab': Host: sr2.lab, 'sr3.lab': Host: sr3.lab}"
      ]
     },
     "execution_count": 12,
     "metadata": {},
     "output_type": "execute_result"
    }
   ],
   "source": [
    "nr.inventory.hosts"
   ]
  },
  {
   "cell_type": "code",
   "execution_count": 13,
   "metadata": {},
   "outputs": [
    {
     "data": {
      "text/plain": [
       "{'sr3.lab'}"
      ]
     },
     "execution_count": 13,
     "metadata": {},
     "output_type": "execute_result"
    }
   ],
   "source": [
    "nr.data.failed_hosts"
   ]
  },
  {
   "cell_type": "code",
   "execution_count": 14,
   "metadata": {},
   "outputs": [],
   "source": [
    "nr.data.reset_failed_hosts()"
   ]
  },
  {
   "cell_type": "code",
   "execution_count": 89,
   "metadata": {},
   "outputs": [],
   "source": [
    "d = {\n",
    "    \"@operation\": \"replace\",\n",
    "    'configuration-mode': 'model-driven',\n",
    "    'netconf': {\n",
    "        'admin-state': 'enable',\n",
    "        'capabilities': {\n",
    "            'candidate': 'true', 'writable-running': 'false'\n",
    "        }\n",
    "    }\n",
    "}\n"
   ]
  },
  {
   "cell_type": "code",
   "execution_count": 92,
   "metadata": {},
   "outputs": [],
   "source": [
    "res = nr.run(task=nc.nc_configure, dry_run=False, configuration=d, path=\"/system/management-interface\")"
   ]
  },
  {
   "cell_type": "code",
   "execution_count": 93,
   "metadata": {},
   "outputs": [
    {
     "name": "stdout",
     "output_type": "stream",
     "text": [
      "\u001b[1m\u001b[36mnc_configure********************************************************************\u001b[0m\n",
      "\u001b[0m\u001b[1m\u001b[34m* sr1.lab ** changed : False ***************************************************\u001b[0m\n",
      "\u001b[0m\u001b[1m\u001b[32mvvvv nc_configure ** changed : False vvvvvvvvvvvvvvvvvvvvvvvvvvvvvvvvvvvvvvvvvvv INFO\u001b[0m\n",
      "\u001b[0m\u001b[1m\u001b[32m^^^^ END nc_configure ^^^^^^^^^^^^^^^^^^^^^^^^^^^^^^^^^^^^^^^^^^^^^^^^^^^^^^^^^^\u001b[0m\n",
      "\u001b[0m\u001b[1m\u001b[34m* sr2.lab ** changed : False ***************************************************\u001b[0m\n",
      "\u001b[0m\u001b[1m\u001b[32mvvvv nc_configure ** changed : False vvvvvvvvvvvvvvvvvvvvvvvvvvvvvvvvvvvvvvvvvvv INFO\u001b[0m\n",
      "\u001b[0m\u001b[1m\u001b[32m^^^^ END nc_configure ^^^^^^^^^^^^^^^^^^^^^^^^^^^^^^^^^^^^^^^^^^^^^^^^^^^^^^^^^^\u001b[0m\n",
      "\u001b[0m\u001b[1m\u001b[34m* sr3.lab ** changed : False ***************************************************\u001b[0m\n",
      "\u001b[0m\u001b[1m\u001b[32mvvvv nc_configure ** changed : False vvvvvvvvvvvvvvvvvvvvvvvvvvvvvvvvvvvvvvvvvvv INFO\u001b[0m\n",
      "\u001b[0m\u001b[1m\u001b[32m^^^^ END nc_configure ^^^^^^^^^^^^^^^^^^^^^^^^^^^^^^^^^^^^^^^^^^^^^^^^^^^^^^^^^^\u001b[0m\n",
      "\u001b[0m"
     ]
    }
   ],
   "source": [
    "print_result(res)"
   ]
  },
  {
   "cell_type": "code",
   "execution_count": 94,
   "metadata": {},
   "outputs": [],
   "source": [
    "cfgs = nr.run(task=nc.get_config, source=nc.NcDatastore.running, path=\"system/management-interface\")"
   ]
  },
  {
   "cell_type": "code",
   "execution_count": 95,
   "metadata": {},
   "outputs": [
    {
     "name": "stdout",
     "output_type": "stream",
     "text": [
      "\u001b[1m\u001b[36mget_config**********************************************************************\u001b[0m\n",
      "\u001b[0m\u001b[1m\u001b[34m* sr1.lab ** changed : False ***************************************************\u001b[0m\n",
      "\u001b[0m\u001b[1m\u001b[32mvvvv get_config ** changed : False vvvvvvvvvvvvvvvvvvvvvvvvvvvvvvvvvvvvvvvvvvvvv INFO\u001b[0m\n",
      "\u001b[0m{\n",
      "  \"management-interface\": {\n",
      "    \"configuration-mode\": \"model-driven\",\n",
      "    \"netconf\": {\n",
      "      \"admin-state\": \"enable\",\n",
      "      \"capabilities\": {\n",
      "        \"candidate\": \"true\",\n",
      "        \"writable-running\": \"false\"\n",
      "      }\n",
      "    }\n",
      "  }\n",
      "}\u001b[0m\n",
      "\u001b[0m\u001b[1m\u001b[32m^^^^ END get_config ^^^^^^^^^^^^^^^^^^^^^^^^^^^^^^^^^^^^^^^^^^^^^^^^^^^^^^^^^^^^\u001b[0m\n",
      "\u001b[0m\u001b[1m\u001b[34m* sr2.lab ** changed : False ***************************************************\u001b[0m\n",
      "\u001b[0m\u001b[1m\u001b[32mvvvv get_config ** changed : False vvvvvvvvvvvvvvvvvvvvvvvvvvvvvvvvvvvvvvvvvvvvv INFO\u001b[0m\n",
      "\u001b[0m{\n",
      "  \"management-interface\": {\n",
      "    \"configuration-mode\": \"model-driven\",\n",
      "    \"netconf\": {\n",
      "      \"admin-state\": \"enable\",\n",
      "      \"capabilities\": {\n",
      "        \"candidate\": \"true\",\n",
      "        \"writable-running\": \"false\"\n",
      "      }\n",
      "    }\n",
      "  }\n",
      "}\u001b[0m\n",
      "\u001b[0m\u001b[1m\u001b[32m^^^^ END get_config ^^^^^^^^^^^^^^^^^^^^^^^^^^^^^^^^^^^^^^^^^^^^^^^^^^^^^^^^^^^^\u001b[0m\n",
      "\u001b[0m\u001b[1m\u001b[34m* sr3.lab ** changed : False ***************************************************\u001b[0m\n",
      "\u001b[0m\u001b[1m\u001b[32mvvvv get_config ** changed : False vvvvvvvvvvvvvvvvvvvvvvvvvvvvvvvvvvvvvvvvvvvvv INFO\u001b[0m\n",
      "\u001b[0m{\n",
      "  \"management-interface\": {\n",
      "    \"configuration-mode\": \"model-driven\",\n",
      "    \"netconf\": {\n",
      "      \"admin-state\": \"enable\",\n",
      "      \"capabilities\": {\n",
      "        \"candidate\": \"true\",\n",
      "        \"writable-running\": \"false\"\n",
      "      }\n",
      "    }\n",
      "  }\n",
      "}\u001b[0m\n",
      "\u001b[0m\u001b[1m\u001b[32m^^^^ END get_config ^^^^^^^^^^^^^^^^^^^^^^^^^^^^^^^^^^^^^^^^^^^^^^^^^^^^^^^^^^^^\u001b[0m\n",
      "\u001b[0m"
     ]
    }
   ],
   "source": [
    "print_result(cfgs)"
   ]
  },
  {
   "cell_type": "code",
   "execution_count": 43,
   "metadata": {},
   "outputs": [],
   "source": [
    "res = nr.run(task=nc.nc_configure, name=\"config:/system/mgmt-interface\", dry_run=False, configuration=d, path=\"/system/management-interface\")"
   ]
  },
  {
   "cell_type": "code",
   "execution_count": 44,
   "metadata": {},
   "outputs": [
    {
     "name": "stdout",
     "output_type": "stream",
     "text": [
      "\u001b[1m\u001b[36mconfig:/system/mgmt-interface***************************************************\u001b[0m\n",
      "\u001b[0m\u001b[1m\u001b[34m* sr1.lab ** changed : False ***************************************************\u001b[0m\n",
      "\u001b[0m\u001b[1m\u001b[32mvvvv config:/system/mgmt-interface ** changed : False vvvvvvvvvvvvvvvvvvvvvvvvvv INFO\u001b[0m\n",
      "\u001b[0m\u001b[1m\u001b[32m^^^^ END config:/system/mgmt-interface ^^^^^^^^^^^^^^^^^^^^^^^^^^^^^^^^^^^^^^^^^\u001b[0m\n",
      "\u001b[0m\u001b[1m\u001b[34m* sr2.lab ** changed : False ***************************************************\u001b[0m\n",
      "\u001b[0m\u001b[1m\u001b[32mvvvv config:/system/mgmt-interface ** changed : False vvvvvvvvvvvvvvvvvvvvvvvvvv INFO\u001b[0m\n",
      "\u001b[0m\u001b[1m\u001b[32m^^^^ END config:/system/mgmt-interface ^^^^^^^^^^^^^^^^^^^^^^^^^^^^^^^^^^^^^^^^^\u001b[0m\n",
      "\u001b[0m\u001b[1m\u001b[34m* sr3.lab ** changed : False ***************************************************\u001b[0m\n",
      "\u001b[0m\u001b[1m\u001b[32mvvvv config:/system/mgmt-interface ** changed : False vvvvvvvvvvvvvvvvvvvvvvvvvv INFO\u001b[0m\n",
      "\u001b[0m\u001b[1m\u001b[32m^^^^ END config:/system/mgmt-interface ^^^^^^^^^^^^^^^^^^^^^^^^^^^^^^^^^^^^^^^^^\u001b[0m\n",
      "\u001b[0m"
     ]
    }
   ],
   "source": [
    "print_result(res)"
   ]
  },
  {
   "cell_type": "code",
   "execution_count": 25,
   "metadata": {},
   "outputs": [],
   "source": [
    "cfgs = nr.run(task=nc.get_config, source=nc.NcDatastore.running, path=\"system/management-interface\")"
   ]
  },
  {
   "cell_type": "code",
   "execution_count": 26,
   "metadata": {},
   "outputs": [
    {
     "name": "stdout",
     "output_type": "stream",
     "text": [
      "\u001b[1m\u001b[36mget_config**********************************************************************\u001b[0m\n",
      "\u001b[0m\u001b[1m\u001b[34m* sr1.lab ** changed : False ***************************************************\u001b[0m\n",
      "\u001b[0m\u001b[1m\u001b[32mvvvv get_config ** changed : False vvvvvvvvvvvvvvvvvvvvvvvvvvvvvvvvvvvvvvvvvvvvv INFO\u001b[0m\n",
      "\u001b[0m{\n",
      "  \"management-interface\": {\n",
      "    \"configuration-mode\": \"model-driven\",\n",
      "    \"netconf\": {\n",
      "      \"admin-state\": \"enable\",\n",
      "      \"capabilities\": {\n",
      "        \"candidate\": \"true\",\n",
      "        \"writable-running\": \"true\"\n",
      "      }\n",
      "    }\n",
      "  }\n",
      "}\u001b[0m\n",
      "\u001b[0m\u001b[1m\u001b[32m^^^^ END get_config ^^^^^^^^^^^^^^^^^^^^^^^^^^^^^^^^^^^^^^^^^^^^^^^^^^^^^^^^^^^^\u001b[0m\n",
      "\u001b[0m\u001b[1m\u001b[34m* sr2.lab ** changed : False ***************************************************\u001b[0m\n",
      "\u001b[0m\u001b[1m\u001b[32mvvvv get_config ** changed : False vvvvvvvvvvvvvvvvvvvvvvvvvvvvvvvvvvvvvvvvvvvvv INFO\u001b[0m\n",
      "\u001b[0m{\n",
      "  \"management-interface\": {\n",
      "    \"configuration-mode\": \"model-driven\",\n",
      "    \"netconf\": {\n",
      "      \"admin-state\": \"enable\",\n",
      "      \"capabilities\": {\n",
      "        \"candidate\": \"true\",\n",
      "        \"writable-running\": \"true\"\n",
      "      }\n",
      "    }\n",
      "  }\n",
      "}\u001b[0m\n",
      "\u001b[0m\u001b[1m\u001b[32m^^^^ END get_config ^^^^^^^^^^^^^^^^^^^^^^^^^^^^^^^^^^^^^^^^^^^^^^^^^^^^^^^^^^^^\u001b[0m\n",
      "\u001b[0m\u001b[1m\u001b[34m* sr3.lab ** changed : False ***************************************************\u001b[0m\n",
      "\u001b[0m\u001b[1m\u001b[32mvvvv get_config ** changed : False vvvvvvvvvvvvvvvvvvvvvvvvvvvvvvvvvvvvvvvvvvvvv INFO\u001b[0m\n",
      "\u001b[0m{\n",
      "  \"management-interface\": {\n",
      "    \"configuration-mode\": \"model-driven\",\n",
      "    \"netconf\": {\n",
      "      \"admin-state\": \"enable\",\n",
      "      \"capabilities\": {\n",
      "        \"candidate\": \"true\",\n",
      "        \"writable-running\": \"true\"\n",
      "      }\n",
      "    }\n",
      "  }\n",
      "}\u001b[0m\n",
      "\u001b[0m\u001b[1m\u001b[32m^^^^ END get_config ^^^^^^^^^^^^^^^^^^^^^^^^^^^^^^^^^^^^^^^^^^^^^^^^^^^^^^^^^^^^\u001b[0m\n",
      "\u001b[0m"
     ]
    }
   ],
   "source": [
    "print_result(cfgs)"
   ]
  },
  {
   "cell_type": "code",
   "execution_count": 16,
   "metadata": {},
   "outputs": [],
   "source": [
    "res = nr.run(task=nc.nc_configure, dry_run=False, configuration=d, path=\"/system/management-interface\")"
   ]
  },
  {
   "cell_type": "code",
   "execution_count": 63,
   "metadata": {},
   "outputs": [],
   "source": [
    "isis = {\n",
    "    \"@operation\": \"merge\",  ## DANGEROUS - 'replace' removes all other statements, incl itfs\n",
    "    \"isis-instance\": 0,\n",
    "    \"admin-state\": \"enable\",\n",
    "    \"advertise-passive-only\": True,\n",
    "    \"ldp-over-rsvp\": True,\n",
    "    \"lsp-lifetime\": \"65535\",\n",
    "    \"traffic-engineering\": True,\n",
    "    \"area-address\": {\n",
    "        \"@operation\": \"replace\",\n",
    "        \"#text\": \"49.0002\",\n",
    "    },\n",
    "    \"lsp-refresh\": {\n",
    "      \"interval\": \"1500\"\n",
    "    },\n",
    "}"
   ]
  },
  {
   "cell_type": "code",
   "execution_count": 39,
   "metadata": {},
   "outputs": [],
   "source": [
    "isis = {'isis': isis}"
   ]
  },
  {
   "cell_type": "code",
   "execution_count": 40,
   "metadata": {},
   "outputs": [
    {
     "data": {
      "text/plain": [
       "{'isis': {'isis-instance': 0,\n",
       "  'admin-state': 'enable',\n",
       "  'advertise-passive-only': True,\n",
       "  'ldp-over-rsvp': True,\n",
       "  'lsp-lifetime': '65535',\n",
       "  'traffic-engineering': True,\n",
       "  'area-address': {'@operation': 'replace', '#text': '49.0002'},\n",
       "  'lsp-refresh': {'interval': '1500'}}}"
      ]
     },
     "execution_count": 40,
     "metadata": {},
     "output_type": "execute_result"
    }
   ],
   "source": [
    "isis"
   ]
  },
  {
   "cell_type": "code",
   "execution_count": 36,
   "metadata": {},
   "outputs": [],
   "source": [
    "import xmltodict ; import json"
   ]
  },
  {
   "cell_type": "code",
   "execution_count": 42,
   "metadata": {},
   "outputs": [
    {
     "name": "stdout",
     "output_type": "stream",
     "text": [
      "<?xml version=\"1.0\" encoding=\"utf-8\"?>\n",
      "<isis><isis-instance>0</isis-instance><admin-state>enable</admin-state><advertise-passive-only>true</advertise-passive-only><ldp-over-rsvp>true</ldp-over-rsvp><lsp-lifetime>65535</lsp-lifetime><traffic-engineering>true</traffic-engineering><area-address operation=\"replace\">49.0002</area-address><lsp-refresh><interval>1500</interval></lsp-refresh></isis>\u001b[0m\n",
      "\u001b[0m"
     ]
    }
   ],
   "source": [
    "print(xmltodict.unparse(isis))"
   ]
  },
  {
   "cell_type": "code",
   "execution_count": 64,
   "metadata": {},
   "outputs": [],
   "source": [
    "res = nr.run(task=nc.nc_configure, name=\"cfg_isis\", dry_run=True, configuration=isis, path=\"/router/router-name=Base/isis\")"
   ]
  },
  {
   "cell_type": "code",
   "execution_count": null,
   "metadata": {},
   "outputs": [],
   "source": []
  },
  {
   "cell_type": "code",
   "execution_count": 65,
   "metadata": {},
   "outputs": [
    {
     "name": "stdout",
     "output_type": "stream",
     "text": [
      "\u001b[1m\u001b[36mcfg_isis************************************************************************\u001b[0m\n",
      "\u001b[0m\u001b[1m\u001b[34m* sr1.lab ** changed : True ****************************************************\u001b[0m\n",
      "\u001b[0m\u001b[1m\u001b[33mvvvv cfg_isis ** changed : True vvvvvvvvvvvvvvvvvvvvvvvvvvvvvvvvvvvvvvvvvvvvvvvv INFO\u001b[0m\n",
      "\u001b[0m--- running\n",
      "+++ candidate\n",
      "@@ -243,9 +243,12 @@\n",
      "       \"ldp-over-rsvp\": \"true\",\n",
      "       \"lsp-lifetime\": \"65535\",\n",
      "       \"traffic-engineering\": \"true\",\n",
      "-      \"area-address\": \"49.0001\",\n",
      "+      \"area-address\": [\n",
      "+        \"49.0001\",\n",
      "+        \"49.0002\"\n",
      "+      ],\n",
      "       \"lsp-refresh\": {\n",
      "-        \"interval\": \"32767\"\n",
      "+        \"interval\": \"1500\"\n",
      "       },\n",
      "       \"timers\": {\n",
      "         \"spf-wait\": {\n",
      "\u001b[0m\n",
      "\u001b[0m\u001b[1m\u001b[33m^^^^ END cfg_isis ^^^^^^^^^^^^^^^^^^^^^^^^^^^^^^^^^^^^^^^^^^^^^^^^^^^^^^^^^^^^^^\u001b[0m\n",
      "\u001b[0m\u001b[1m\u001b[34m* sr2.lab ** changed : True ****************************************************\u001b[0m\n",
      "\u001b[0m\u001b[1m\u001b[33mvvvv cfg_isis ** changed : True vvvvvvvvvvvvvvvvvvvvvvvvvvvvvvvvvvvvvvvvvvvvvvvv INFO\u001b[0m\n",
      "\u001b[0m--- running\n",
      "+++ candidate\n",
      "@@ -146,9 +146,12 @@\n",
      "       \"ldp-over-rsvp\": \"true\",\n",
      "       \"lsp-lifetime\": \"65535\",\n",
      "       \"traffic-engineering\": \"true\",\n",
      "-      \"area-address\": \"49.0001\",\n",
      "+      \"area-address\": [\n",
      "+        \"49.0001\",\n",
      "+        \"49.0002\"\n",
      "+      ],\n",
      "       \"lsp-refresh\": {\n",
      "-        \"interval\": \"32767\"\n",
      "+        \"interval\": \"1500\"\n",
      "       }\n",
      "     }\n",
      "   },\n",
      "\u001b[0m\n",
      "\u001b[0m\u001b[1m\u001b[33m^^^^ END cfg_isis ^^^^^^^^^^^^^^^^^^^^^^^^^^^^^^^^^^^^^^^^^^^^^^^^^^^^^^^^^^^^^^\u001b[0m\n",
      "\u001b[0m\u001b[1m\u001b[34m* sr3.lab ** changed : True ****************************************************\u001b[0m\n",
      "\u001b[0m\u001b[1m\u001b[33mvvvv cfg_isis ** changed : True vvvvvvvvvvvvvvvvvvvvvvvvvvvvvvvvvvvvvvvvvvvvvvvv INFO\u001b[0m\n",
      "\u001b[0m--- running\n",
      "+++ candidate\n",
      "@@ -133,9 +133,12 @@\n",
      "       \"ldp-over-rsvp\": \"true\",\n",
      "       \"lsp-lifetime\": \"65535\",\n",
      "       \"traffic-engineering\": \"true\",\n",
      "-      \"area-address\": \"49.0001\",\n",
      "+      \"area-address\": [\n",
      "+        \"49.0001\",\n",
      "+        \"49.0002\"\n",
      "+      ],\n",
      "       \"lsp-refresh\": {\n",
      "-        \"interval\": \"32767\"\n",
      "+        \"interval\": \"1500\"\n",
      "       }\n",
      "     }\n",
      "   },\n",
      "\u001b[0m\n",
      "\u001b[0m\u001b[1m\u001b[33m^^^^ END cfg_isis ^^^^^^^^^^^^^^^^^^^^^^^^^^^^^^^^^^^^^^^^^^^^^^^^^^^^^^^^^^^^^^\u001b[0m\n",
      "\u001b[0m"
     ]
    }
   ],
   "source": [
    "print_result(res)"
   ]
  },
  {
   "cell_type": "code",
   "execution_count": 34,
   "metadata": {},
   "outputs": [],
   "source": [
    "cfgs = nr.run(task=nc.get_config, source=nc.NcDatastore.running, path=\"/router/isis\")"
   ]
  },
  {
   "cell_type": "code",
   "execution_count": 35,
   "metadata": {},
   "outputs": [
    {
     "name": "stdout",
     "output_type": "stream",
     "text": [
      "\u001b[1m\u001b[36mget_config**********************************************************************\u001b[0m\n",
      "\u001b[0m\u001b[1m\u001b[34m* sr1.lab ** changed : False ***************************************************\u001b[0m\n",
      "\u001b[0m\u001b[1m\u001b[32mvvvv get_config ** changed : False vvvvvvvvvvvvvvvvvvvvvvvvvvvvvvvvvvvvvvvvvvvvv INFO\u001b[0m\n",
      "\u001b[0m{\n",
      "  \"isis\": {\n",
      "    \"isis-instance\": \"0\",\n",
      "    \"admin-state\": \"enable\",\n",
      "    \"advertise-passive-only\": \"true\",\n",
      "    \"ldp-over-rsvp\": \"true\",\n",
      "    \"lsp-lifetime\": \"65535\",\n",
      "    \"traffic-engineering\": \"true\",\n",
      "    \"area-address\": \"49.0001\",\n",
      "    \"lsp-refresh\": {\n",
      "      \"interval\": \"32767\"\n",
      "    },\n",
      "    \"timers\": {\n",
      "      \"spf-wait\": {\n",
      "        \"spf-initial-wait\": \"50\",\n",
      "        \"spf-second-wait\": \"200\"\n",
      "      }\n",
      "    },\n",
      "    \"loopfree-alternate\": null,\n",
      "    \"interface\": [\n",
      "      {\n",
      "        \"interface-name\": \"system\",\n",
      "        \"admin-state\": \"enable\",\n",
      "        \"passive\": \"true\"\n",
      "      },\n",
      "      {\n",
      "        \"interface-name\": \"to_sr2\",\n",
      "        \"interface-type\": \"point-to-point\"\n",
      "      },\n",
      "      {\n",
      "        \"interface-name\": \"to_sr3\",\n",
      "        \"interface-type\": \"point-to-point\"\n",
      "      }\n",
      "    ],\n",
      "    \"level\": {\n",
      "      \"level-number\": \"2\",\n",
      "      \"default-metric\": \"16777214\",\n",
      "      \"wide-metrics-only\": \"true\"\n",
      "    }\n",
      "  }\n",
      "}\u001b[0m\n",
      "\u001b[0m\u001b[1m\u001b[32m^^^^ END get_config ^^^^^^^^^^^^^^^^^^^^^^^^^^^^^^^^^^^^^^^^^^^^^^^^^^^^^^^^^^^^\u001b[0m\n",
      "\u001b[0m"
     ]
    }
   ],
   "source": [
    "print_result(cfgs)"
   ]
  },
  {
   "cell_type": "code",
   "execution_count": 96,
   "metadata": {},
   "outputs": [],
   "source": [
    "cfgs = nr.run(task=nc.get_config, source=nc.NcDatastore.running, path=\"/router/router-name=Base\")"
   ]
  },
  {
   "cell_type": "code",
   "execution_count": 97,
   "metadata": {},
   "outputs": [
    {
     "name": "stdout",
     "output_type": "stream",
     "text": [
      "\u001b[1m\u001b[36mget_config**********************************************************************\u001b[0m\n",
      "\u001b[0m\u001b[1m\u001b[34m* sr1.lab ** changed : False ***************************************************\u001b[0m\n",
      "\u001b[0m\u001b[1m\u001b[32mvvvv get_config ** changed : False vvvvvvvvvvvvvvvvvvvvvvvvvvvvvvvvvvvvvvvvvvvvv INFO\u001b[0m\n",
      "\u001b[0m{\n",
      "  \"router-name=Base\": {\n",
      "    \"router-name\": \"Base\",\n",
      "    \"autonomous-system\": \"6774\",\n",
      "    \"interface\": [\n",
      "      {\n",
      "        \"interface-name\": \"system\",\n",
      "        \"ipv4\": {\n",
      "          \"primary\": {\n",
      "            \"address\": \"192.168.255.1\",\n",
      "            \"prefix-length\": \"32\"\n",
      "          }\n",
      "        }\n",
      "      },\n",
      "      {\n",
      "        \"interface-name\": \"to_sr2\",\n",
      "        \"port\": \"1/1/1:1\",\n",
      "        \"ipv4\": {\n",
      "          \"primary\": {\n",
      "            \"address\": \"192.168.0.0\",\n",
      "            \"prefix-length\": \"31\"\n",
      "          }\n",
      "        }\n",
      "      },\n",
      "      {\n",
      "        \"interface-name\": \"to_sr3\",\n",
      "        \"port\": \"1/1/2:1\",\n",
      "        \"ipv4\": {\n",
      "          \"primary\": {\n",
      "            \"address\": \"192.168.0.2\",\n",
      "            \"prefix-length\": \"31\"\n",
      "          }\n",
      "        }\n",
      "      }\n",
      "    ],\n",
      "    \"bgp\": {\n",
      "      \"group\": {\n",
      "        \"group-name\": \"internal\",\n",
      "        \"type\": \"internal\",\n",
      "        \"family\": {\n",
      "          \"ipv4\": \"true\",\n",
      "          \"vpn-ipv4\": \"true\",\n",
      "          \"ipv6\": \"true\",\n",
      "          \"vpn-ipv6\": \"true\",\n",
      "          \"evpn\": \"true\",\n",
      "          \"label-ipv6\": \"true\"\n",
      "        }\n",
      "      },\n",
      "      \"neighbor\": [\n",
      "        {\n",
      "          \"ip-address\": \"192.168.255.2\",\n",
      "          \"group\": \"internal\"\n",
      "        },\n",
      "        {\n",
      "          \"ip-address\": \"192.168.255.3\",\n",
      "          \"group\": \"internal\"\n",
      "        },\n",
      "        {\n",
      "          \"ip-address\": \"192.168.255.4\",\n",
      "          \"group\": \"internal\"\n",
      "        }\n",
      "      ]\n",
      "    },\n",
      "    \"isis\": {\n",
      "      \"isis-instance\": \"0\",\n",
      "      \"admin-state\": \"enable\",\n",
      "      \"advertise-passive-only\": \"true\",\n",
      "      \"ldp-over-rsvp\": \"true\",\n",
      "      \"lsp-lifetime\": \"32000\",\n",
      "      \"traffic-engineering\": \"true\",\n",
      "      \"area-address\": \"49.0001\",\n",
      "      \"lsp-refresh\": {\n",
      "        \"interval\": \"1500\"\n",
      "      },\n",
      "      \"timers\": {\n",
      "        \"spf-wait\": {\n",
      "          \"spf-initial-wait\": \"50\",\n",
      "          \"spf-second-wait\": \"200\"\n",
      "        }\n",
      "      },\n",
      "      \"loopfree-alternate\": null,\n",
      "      \"interface\": [\n",
      "        {\n",
      "          \"interface-name\": \"system\",\n",
      "          \"admin-state\": \"enable\",\n",
      "          \"passive\": \"true\"\n",
      "        },\n",
      "        {\n",
      "          \"interface-name\": \"to_sr2\",\n",
      "          \"interface-type\": \"point-to-point\"\n",
      "        },\n",
      "        {\n",
      "          \"interface-name\": \"to_sr3\",\n",
      "          \"interface-type\": \"point-to-point\"\n",
      "        }\n",
      "      ],\n",
      "      \"level\": {\n",
      "        \"level-number\": \"2\",\n",
      "        \"default-metric\": \"16777214\",\n",
      "        \"wide-metrics-only\": \"true\"\n",
      "      }\n",
      "    },\n",
      "    \"mpls\": {\n",
      "      \"admin-state\": \"enable\",\n",
      "      \"interface\": [\n",
      "        {\n",
      "          \"interface-name\": \"to_sr2\"\n",
      "        },\n",
      "        {\n",
      "          \"interface-name\": \"to_sr3\"\n",
      "        }\n",
      "      ],\n",
      "      \"path\": {\n",
      "        \"path-name\": \"dyn\",\n",
      "        \"admin-state\": \"enable\"\n",
      "      },\n",
      "      \"lsp\": {\n",
      "        \"lsp-name\": \"l_sr2_1\",\n",
      "        \"type\": \"p2p-rsvp\",\n",
      "        \"to\": \"182.168.255.2\",\n",
      "        \"cspf\": null,\n",
      "        \"primary\": {\n",
      "          \"path-name\": \"dyn\"\n",
      "        }\n",
      "      }\n",
      "    },\n",
      "    \"rsvp\": {\n",
      "      \"admin-state\": \"enable\",\n",
      "      \"interface\": [\n",
      "        {\n",
      "          \"interface-name\": \"system\",\n",
      "          \"admin-state\": \"enable\"\n",
      "        },\n",
      "        {\n",
      "          \"interface-name\": \"to_sr2\",\n",
      "          \"admin-state\": \"enable\"\n",
      "        },\n",
      "        {\n",
      "          \"interface-name\": \"to_sr3\",\n",
      "          \"admin-state\": \"enable\"\n",
      "        }\n",
      "      ]\n",
      "    }\n",
      "  }\n",
      "}\u001b[0m\n",
      "\u001b[0m\u001b[1m\u001b[32m^^^^ END get_config ^^^^^^^^^^^^^^^^^^^^^^^^^^^^^^^^^^^^^^^^^^^^^^^^^^^^^^^^^^^^\u001b[0m\n",
      "\u001b[0m\u001b[1m\u001b[34m* sr2.lab ** changed : False ***************************************************\u001b[0m\n",
      "\u001b[0m\u001b[1m\u001b[32mvvvv get_config ** changed : False vvvvvvvvvvvvvvvvvvvvvvvvvvvvvvvvvvvvvvvvvvvvv INFO\u001b[0m\n",
      "\u001b[0m{\n",
      "  \"router-name=Base\": {\n",
      "    \"router-name\": \"Base\",\n",
      "    \"autonomous-system\": \"6774\",\n",
      "    \"interface\": {\n",
      "      \"interface-name\": \"system\",\n",
      "      \"ipv4\": {\n",
      "        \"primary\": {\n",
      "          \"address\": \"192.168.255.2\",\n",
      "          \"prefix-length\": \"32\"\n",
      "        }\n",
      "      }\n",
      "    },\n",
      "    \"bgp\": {\n",
      "      \"group\": {\n",
      "        \"group-name\": \"internal\",\n",
      "        \"type\": \"internal\",\n",
      "        \"family\": {\n",
      "          \"ipv4\": \"true\",\n",
      "          \"vpn-ipv4\": \"true\",\n",
      "          \"ipv6\": \"true\",\n",
      "          \"vpn-ipv6\": \"true\",\n",
      "          \"evpn\": \"true\",\n",
      "          \"label-ipv6\": \"true\"\n",
      "        }\n",
      "      }\n",
      "    },\n",
      "    \"isis\": {\n",
      "      \"isis-instance\": \"0\",\n",
      "      \"admin-state\": \"enable\",\n",
      "      \"advertise-passive-only\": \"true\",\n",
      "      \"ldp-over-rsvp\": \"true\",\n",
      "      \"lsp-lifetime\": \"65535\",\n",
      "      \"traffic-engineering\": \"true\",\n",
      "      \"area-address\": \"49.0001\",\n",
      "      \"lsp-refresh\": {\n",
      "        \"interval\": \"32767\"\n",
      "      }\n",
      "    }\n",
      "  }\n",
      "}\u001b[0m\n",
      "\u001b[0m\u001b[1m\u001b[32m^^^^ END get_config ^^^^^^^^^^^^^^^^^^^^^^^^^^^^^^^^^^^^^^^^^^^^^^^^^^^^^^^^^^^^\u001b[0m\n",
      "\u001b[0m\u001b[1m\u001b[34m* sr3.lab ** changed : False ***************************************************\u001b[0m\n",
      "\u001b[0m\u001b[1m\u001b[32mvvvv get_config ** changed : False vvvvvvvvvvvvvvvvvvvvvvvvvvvvvvvvvvvvvvvvvvvvv INFO\u001b[0m\n",
      "\u001b[0m{\n",
      "  \"router-name=Base\": {\n",
      "    \"router-name\": \"Base\",\n",
      "    \"autonomous-system\": \"6774\",\n",
      "    \"bgp\": {\n",
      "      \"group\": {\n",
      "        \"group-name\": \"internal\",\n",
      "        \"type\": \"internal\",\n",
      "        \"family\": {\n",
      "          \"ipv4\": \"true\",\n",
      "          \"vpn-ipv4\": \"true\",\n",
      "          \"ipv6\": \"true\",\n",
      "          \"vpn-ipv6\": \"true\",\n",
      "          \"evpn\": \"true\",\n",
      "          \"label-ipv6\": \"true\"\n",
      "        }\n",
      "      }\n",
      "    },\n",
      "    \"isis\": {\n",
      "      \"isis-instance\": \"0\",\n",
      "      \"admin-state\": \"enable\",\n",
      "      \"advertise-passive-only\": \"true\",\n",
      "      \"ldp-over-rsvp\": \"true\",\n",
      "      \"lsp-lifetime\": \"65535\",\n",
      "      \"traffic-engineering\": \"true\",\n",
      "      \"area-address\": \"49.0001\",\n",
      "      \"lsp-refresh\": {\n",
      "        \"interval\": \"32767\"\n",
      "      }\n",
      "    }\n",
      "  }\n",
      "}\u001b[0m\n",
      "\u001b[0m\u001b[1m\u001b[32m^^^^ END get_config ^^^^^^^^^^^^^^^^^^^^^^^^^^^^^^^^^^^^^^^^^^^^^^^^^^^^^^^^^^^^\u001b[0m\n",
      "\u001b[0m"
     ]
    }
   ],
   "source": [
    "print_result(cfgs)"
   ]
  },
  {
   "cell_type": "code",
   "execution_count": 104,
   "metadata": {},
   "outputs": [],
   "source": [
    "cfgs = nr.run(task=nc.get_config, source=nc.NcDatastore.running, path=\"/router/bgp/neighbor\")"
   ]
  },
  {
   "cell_type": "code",
   "execution_count": 105,
   "metadata": {},
   "outputs": [
    {
     "data": {
      "text/plain": [
       "AggregatedResult (get_config): {}"
      ]
     },
     "execution_count": 105,
     "metadata": {},
     "output_type": "execute_result"
    }
   ],
   "source": [
    "cfgs"
   ]
  },
  {
   "cell_type": "code",
   "execution_count": 106,
   "metadata": {},
   "outputs": [
    {
     "name": "stdout",
     "output_type": "stream",
     "text": [
      "\u001b[1m\u001b[36mget_config**********************************************************************\u001b[0m\n",
      "\u001b[0m"
     ]
    }
   ],
   "source": [
    "print_result(cfgs)"
   ]
  },
  {
   "cell_type": "code",
   "execution_count": null,
   "metadata": {},
   "outputs": [],
   "source": []
  }
 ],
 "metadata": {
  "kernelspec": {
   "display_name": "Python 3",
   "language": "python",
   "name": "python3"
  },
  "language_info": {
   "codemirror_mode": {
    "name": "ipython",
    "version": 3
   },
   "file_extension": ".py",
   "mimetype": "text/x-python",
   "name": "python",
   "nbconvert_exporter": "python",
   "pygments_lexer": "ipython3",
   "version": "3.7.2"
  }
 },
 "nbformat": 4,
 "nbformat_minor": 2
}
